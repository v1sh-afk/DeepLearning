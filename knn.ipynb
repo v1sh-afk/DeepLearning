{
 "cells": [
  {
   "cell_type": "code",
   "execution_count": 1,
   "metadata": {},
   "outputs": [],
   "source": [
    "import numpy as np\n",
    "from sklearn.datasets import load_digits\n",
    "from sklearn.model_selection import train_test_split\n",
    "from sklearn.metrics import accuracy_score\n",
    "from collections import Counter\n",
    "\n",
    "class KNN:\n",
    "    def __init__(self, k=3):\n",
    "        self.k = k\n",
    "\n",
    "    def fit(self, X, y):\n",
    "        self.X_train = X\n",
    "        self.y_train = y\n",
    "\n",
    "    def predict(self, X):\n",
    "        y_pred = [self._predict(x) for x in X]\n",
    "        return np.array(y_pred)\n",
    "\n",
    "    def _predict(self, x):\n",
    "        # Compute distances between x and all examples in the training set\n",
    "        distances = [np.linalg.norm(x - x_train) for x_train in self.X_train]\n",
    "        # Sort by distance and return indices of the first k neighbors\n",
    "        k_indices = np.argsort(distances)[:self.k]\n",
    "        # Extract the labels of the k nearest neighbor training samples\n",
    "        k_nearest_labels = [self.y_train[i] for i in k_indices]\n",
    "        # Return the most common class label among the k neighbors\n",
    "        most_common = Counter(k_nearest_labels).most_common(1)\n",
    "        return most_common[0][0]\n"
   ]
  },
  {
   "cell_type": "code",
   "execution_count": 2,
   "metadata": {},
   "outputs": [
    {
     "name": "stdout",
     "output_type": "stream",
     "text": [
      "Accuracy with k=1: 0.98\n",
      "Accuracy with k=3: 0.99\n",
      "Accuracy with k=5: 0.99\n",
      "Accuracy with k=7: 0.99\n",
      "Accuracy with k=10: 0.98\n"
     ]
    },
    {
     "data": {
      "image/png": "[encoded data removed]",
      "text/plain": [
       "<Figure size 1000x500 with 20 Axes>"
      ]
     },
     "metadata": {},
     "output_type": "display_data"
    }
   ],
   "source": [
    "import matplotlib.pyplot as plt\n",
    "\n",
    "# Load dataset\n",
    "digits = load_digits()\n",
    "X = digits.data\n",
    "y = digits.target\n",
    "\n",
    "# Split the dataset\n",
    "X_train, X_test, y_train, y_test = train_test_split(X, y, test_size=0.3, random_state=42)\n",
    "\n",
    "# Experiment with different values of k\n",
    "k_values = [1, 3, 5, 7, 10]\n",
    "for k in k_values:\n",
    "    # Initialize and train KNN\n",
    "    knn = KNN(k=k)\n",
    "    knn.fit(X_train, y_train)\n",
    "    \n",
    "    # Predict and evaluate\n",
    "    y_pred = knn.predict(X_test)\n",
    "    accuracy = accuracy_score(y_test, y_pred)\n",
    "    print(f\"Accuracy with k={k}: {accuracy:.2f}\")\n",
    "\n",
    "# Optional: Visualize some test results\n",
    "def plot_digits(images, labels, predictions, num=10):\n",
    "    plt.figure(figsize=(10, 5))\n",
    "    for i in range(num):\n",
    "        plt.subplot(2, num, i + 1)\n",
    "        plt.imshow(images[i].reshape(8, 8), cmap='gray')\n",
    "        plt.title(f'True: {labels[i]}')\n",
    "        plt.axis('off')\n",
    "        plt.subplot(2, num, num + i + 1)\n",
    "        plt.imshow(images[i].reshape(8, 8), cmap='gray')\n",
    "        plt.title(f'Pred: {predictions[i]}')\n",
    "        plt.axis('off')\n",
    "    plt.show()\n",
    "\n",
    "# Predict and visualize a subset of test data\n",
    "sample_indices = np.random.choice(len(X_test), size=10, replace=False)\n",
    "X_sample = X_test[sample_indices]\n",
    "y_true = y_test[sample_indices]\n",
    "y_pred = knn.predict(X_sample)\n",
    "\n",
    "plot_digits(X_sample, y_true, y_pred)\n"
   ]
  }
 ],
 "metadata": {
  "kernelspec": {
   "display_name": "Python 3",
   "language": "python",
   "name": "python3"
  },
  "language_info": {
   "codemirror_mode": {
    "name": "ipython",
    "version": 3
   },
   "file_extension": ".py",
   "mimetype": "text/x-python",
   "name": "python",
   "nbconvert_exporter": "python",
   "pygments_lexer": "ipython3",
   "version": "3.11.3"
  }
 },
 "nbformat": 4,
 "nbformat_minor": 2
}
