{
 "cells": [
  {
   "cell_type": "code",
   "execution_count": null,
   "metadata": {
    "vscode": {
     "languageId": "plaintext"
    }
   },
   "outputs": [],
   "source": [
    "import numpy as np\n",
    "import matplotlib.pyplot as plt\n",
    "import tensorflow as tf\n",
    "from tensorflow.keras.applications import VGG16\n",
    "from tensorflow.keras.preprocessing import image\n",
    "\n",
    "# Load VGG16 model pre-trained on ImageNet\n",
    "model = VGG16(weights='imagenet', include_top=False)\n",
    "\n",
    "# Load and preprocess an image\n",
    "img_path = 'image.jpg'  # Replace with your image path\n",
    "img = image.load_img(img_path, target_size=(224, 224))\n",
    "img_array = image.img_to_array(img)\n",
    "img_array = np.expand_dims(img_array, axis=0)\n",
    "img_array /= 255.0  # Scale to [0, 1]\n",
    "\n",
    "# Get the output of the first convolutional layer\n",
    "layer_outputs = model.layers[1].output\n",
    "feature_map_model = tf.keras.Model(inputs=model.input, outputs=layer_outputs)\n",
    "\n",
    "# Get feature maps\n",
    "feature_maps = feature_map_model.predict(img_array)\n",
    "\n",
    "# Visualize the first few feature maps\n",
    "num_feature_maps = feature_maps.shape[-1]\n",
    "plt.figure(figsize=(12, 12))\n",
    "for i in range(min(6, num_feature_maps)):  # Display first 6 feature maps\n",
    "    plt.subplot(2, 3, i + 1)\n",
    "    plt.imshow(feature_maps[0, :, :, i], cmap='viridis')\n",
    "    plt.axis('off')\n",
    "plt.suptitle('Feature Maps from First Convolutional Layer')\n",
    "plt.show()\n",
    "\n",
    "# Get the weights of the first convolutional layer\n",
    "filters, biases = model.layers[1].get_weights()\n",
    "\n",
    "# Normalize filter values to 0-1 for better visualization\n",
    "filters = (filters - filters.min()) / (filters.max() - filters.min())\n",
    "\n",
    "# Plot the filters\n",
    "plt.figure(figsize=(12, 12))\n",
    "for i in range(min(6, filters.shape[3])):  # Display first 6 filters\n",
    "    plt.subplot(2, 3, i + 1)\n",
    "    plt.imshow(filters[:, :, :, i], cmap='viridis')\n",
    "    plt.axis('off')\n",
    "plt.suptitle('Filters from First Convolutional Layer')\n",
    "plt.show()\n"
   ]
  },
  {
   "cell_type": "code",
   "execution_count": null,
   "metadata": {
    "vscode": {
     "languageId": "plaintext"
    }
   },
   "outputs": [],
   "source": []
  }
 ],
 "metadata": {
  "language_info": {
   "name": "python"
  }
 },
 "nbformat": 4,
 "nbformat_minor": 2
}
